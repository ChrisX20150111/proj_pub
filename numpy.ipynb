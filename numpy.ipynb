{
 "cells": [
  {
   "cell_type": "code",
   "execution_count": 3,
   "metadata": {},
   "outputs": [
    {
     "name": "stdout",
     "output_type": "stream",
     "text": [
      "v1(type:<class 'numpy.ndarray'>): [[ 2.71828183]\n",
      " [ 7.3890561 ]\n",
      " [20.08553692]\n",
      " [54.59815003]]\n",
      "v2(type:<class 'numpy.ndarray'>): [ 2.71828183  7.3890561  20.08553692 54.59815003]\n"
     ]
    }
   ],
   "source": [
    "import math\n",
    "import numpy as np\n",
    "\n",
    "u = np.array((1, 2, 3, 4))\n",
    "\n",
    "v1 = np.zeros((4, 1))\n",
    "for i in range(4):\n",
    "    v1[i] = math.exp(u[i])\n",
    "print(\"v1(type:\" + str(type(v1)) + \"): \" + str(v1))\n",
    "\n",
    "v2 = np.exp(u)\n",
    "# v2 = np.log(u)\n",
    "# v2 = np.abs(u)\n",
    "# v2 = np.maximum(u, 3)\n",
    "print(\"v2(type:\" + str(type(v2)) + \"): \" + str(v2))"
   ]
  },
  {
   "cell_type": "code",
   "execution_count": null,
   "metadata": {},
   "outputs": [],
   "source": []
  },
  {
   "cell_type": "code",
   "execution_count": null,
   "metadata": {},
   "outputs": [],
   "source": []
  }
 ],
 "metadata": {
  "kernelspec": {
   "display_name": "Python 3",
   "language": "python",
   "name": "python3"
  },
  "language_info": {
   "codemirror_mode": {
    "name": "ipython",
    "version": 3
   },
   "file_extension": ".py",
   "mimetype": "text/x-python",
   "name": "python",
   "nbconvert_exporter": "python",
   "pygments_lexer": "ipython3",
   "version": "3.7.4"
  }
 },
 "nbformat": 4,
 "nbformat_minor": 2
}
