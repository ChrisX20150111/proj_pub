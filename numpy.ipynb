{
 "cells": [
  {
   "cell_type": "code",
   "execution_count": 21,
   "metadata": {},
   "outputs": [
    {
     "name": "stdout",
     "output_type": "stream",
     "text": [
      "v1(shape:(4,)): [ 2.71828183  7.3890561  20.08553692 54.59815003]\n",
      "v1(shape:(1, 4)): [[ 2.71828183  7.3890561  20.08553692 54.59815003]]\n",
      "v2(shape:(1, 4)): [[ 2.71828183  7.3890561  20.08553692 54.59815003]]\n"
     ]
    }
   ],
   "source": [
    "import math\n",
    "import numpy as np\n",
    "\n",
    "u = np.array((1, 2, 3, 4))\n",
    "v1 = np.zeros(4)    #(1, 4): index 1 is out of bounds for axis 0 with size 1\n",
    "for i in range(4):\n",
    "    v1[i] = math.exp(u[i])\n",
    "print(\"v1(shape:\" + str(np.shape(v1)) + \"): \" + str(v1))\n",
    "\n",
    "# same as above\n",
    "u = np.array([[1, 2, 3, 4],])\n",
    "v1 = np.zeros((1, 4))\n",
    "for i in range(4):\n",
    "    v1[0, i] = math.exp(u[0, i])\n",
    "print(\"v1(shape:\" + str(np.shape(v1)) + \"): \" + str(v1))\n",
    "\n",
    "v2 = np.exp(u)\n",
    "# v2 = np.log(u)\n",
    "# v2 = np.log10(u)\n",
    "# v2 = np.abs(u)\n",
    "# v2 = np.maximum(u, 3)\n",
    "print(\"v2(shape:\" + str(np.shape(v2)) + \"): \" + str(v2))"
   ]
  },
  {
   "cell_type": "code",
   "execution_count": 1,
   "metadata": {},
   "outputs": [
    {
     "data": {
      "text/plain": [
       "array([[1, 2],\n",
       "       [8, 6],\n",
       "       [3, 4]])"
      ]
     },
     "execution_count": 1,
     "metadata": {},
     "output_type": "execute_result"
    }
   ],
   "source": [
    "import numpy as np\n",
    "A = np.array([[1, 2], [8, 6], [3, 4]])\n",
    "A[0:3:1, :]"
   ]
  },
  {
   "cell_type": "code",
   "execution_count": 6,
   "metadata": {},
   "outputs": [
    {
     "data": {
      "text/plain": [
       "array([12, 42, 72])"
      ]
     },
     "execution_count": 6,
     "metadata": {},
     "output_type": "execute_result"
    }
   ],
   "source": [
    "import numpy as np\n",
    "b = np.array([\n",
    "    [[1, 2, 3], [11, 12, 13], [21, 22, 23]], \n",
    "    [[31, 32, 33], [41, 42, 43], [51, 52, 53]], \n",
    "    [[6, 62, 63], [71, 72, 73], [81, 82, 83]], \n",
    "    ])\n",
    "b[:, 1, 1]"
   ]
  },
  {
   "cell_type": "code",
   "execution_count": 12,
   "metadata": {},
   "outputs": [
    {
     "data": {
      "text/plain": [
       "array([[3, 3],\n",
       "       [3, 3]])"
      ]
     },
     "execution_count": 12,
     "metadata": {},
     "output_type": "execute_result"
    }
   ],
   "source": [
    "import numpy as np\n",
    "\n",
    "a = np.zeros([5, 1])\n",
    "b = np.ones([2, 2], dtype='int32')\n",
    "c = np.full([2, 2], 3)\n",
    "c"
   ]
  },
  {
   "cell_type": "code",
   "execution_count": 11,
   "metadata": {},
   "outputs": [
    {
     "name": "stdout",
     "output_type": "stream",
     "text": [
      "[[0.97984112 0.38493618 0.61624832]\n",
      " [0.79641969 0.93773967 0.32595654]]\n",
      "2\n",
      "[[5 4 9]\n",
      " [7 4 5]]\n"
     ]
    }
   ],
   "source": [
    "print(np.random.rand(2, 3))\n",
    "print(np.random.randint(5))\n",
    "print(np.random.randint(4, 10, size=(2, 3)))"
   ]
  },
  {
   "cell_type": "code",
   "execution_count": 48,
   "metadata": {},
   "outputs": [
    {
     "data": {
      "text/plain": [
       "array([[1., 0., 0.],\n",
       "       [0., 1., 0.],\n",
       "       [0., 0., 1.]])"
      ]
     },
     "execution_count": 48,
     "metadata": {},
     "output_type": "execute_result"
    }
   ],
   "source": [
    "np.identity(3)"
   ]
  },
  {
   "cell_type": "code",
   "execution_count": 56,
   "metadata": {},
   "outputs": [
    {
     "name": "stdout",
     "output_type": "stream",
     "text": [
      "[[0. 0. 0.]\n",
      " [0. 9. 0.]\n",
      " [0. 0. 0.]]\n",
      "[[1. 1. 1. 1. 1.]\n",
      " [1. 0. 0. 0. 1.]\n",
      " [1. 0. 9. 0. 1.]\n",
      " [1. 0. 0. 0. 1.]\n",
      " [1. 1. 1. 1. 1.]]\n"
     ]
    }
   ],
   "source": [
    "o = np.ones((5, 5))\n",
    "z = np.zeros((3, 3))\n",
    "z[1, 1] = 9\n",
    "print(z)\n",
    "o[1:-1, 1:-1] = z\n",
    "print(o)"
   ]
  },
  {
   "cell_type": "code",
   "execution_count": null,
   "metadata": {},
   "outputs": [],
   "source": []
  }
 ],
 "metadata": {
  "kernelspec": {
   "display_name": "Python 3",
   "language": "python",
   "name": "python3"
  },
  "language_info": {
   "codemirror_mode": {
    "name": "ipython",
    "version": 3
   },
   "file_extension": ".py",
   "mimetype": "text/x-python",
   "name": "python",
   "nbconvert_exporter": "python",
   "pygments_lexer": "ipython3",
   "version": "3.7.4"
  }
 },
 "nbformat": 4,
 "nbformat_minor": 2
}
