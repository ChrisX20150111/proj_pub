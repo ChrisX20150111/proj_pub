{
 "cells": [
  {
   "cell_type": "code",
   "execution_count": 3,
   "metadata": {},
   "outputs": [
    {
     "name": "stdout",
     "output_type": "stream",
     "text": [
      "a1(type:<class 'numpy.ndarray'>): [1 2 3 4]\n",
      "a2(type:<class 'numpy.ndarray'>): [0.10330419 0.27153943 0.37250575 0.5116747  0.24105518 0.3851211\n",
      " 0.02806474 0.82972581 0.96852801 0.58034087]\n",
      "250208.33134732945\n",
      "Vectorized ver: 2.0003318786621094 ms\n",
      "250208.3313473422\n",
      "For loop ver: 476.4420986175537 ms\n"
     ]
    }
   ],
   "source": [
    "import numpy as np\n",
    "import time as tm\n",
    "\n",
    "a1 = np.array([1, 2, 3, 4])\n",
    "print(\"a1(type:\" + str(type(a1)) + \"): \" + str(a1))\n",
    "\n",
    "a2 = np.random.rand(10)\n",
    "print(\"a2(type:\" + str(type(a2)) + \"): \" + str(a2))\n",
    "\n",
    "a = np.random.rand(1000000)\n",
    "b = np.random.rand(1000000)\n",
    "\n",
    "tic = tm.time()\n",
    "c = np.dot(a, b)\n",
    "toc = tm.time()\n",
    "print(c)\n",
    "print(\"Vectorized ver: \" + str((toc - tic) * 1000) + \" ms\")\n",
    "\n",
    "tic = tm.time()\n",
    "c = 0\n",
    "for i in range(1000000):\n",
    "    c += a[i] * b[i]\n",
    "toc = tm.time()\n",
    "print(c)\n",
    "print(\"For loop ver: \" + str((toc - tic) * 1000) + \" ms\")"
   ]
  },
  {
   "cell_type": "code",
   "execution_count": null,
   "metadata": {},
   "outputs": [],
   "source": []
  },
  {
   "cell_type": "code",
   "execution_count": null,
   "metadata": {},
   "outputs": [],
   "source": []
  }
 ],
 "metadata": {
  "kernelspec": {
   "display_name": "Python 3",
   "language": "python",
   "name": "python3"
  },
  "language_info": {
   "codemirror_mode": {
    "name": "ipython",
    "version": 3
   },
   "file_extension": ".py",
   "mimetype": "text/x-python",
   "name": "python",
   "nbconvert_exporter": "python",
   "pygments_lexer": "ipython3",
   "version": "3.7.4"
  }
 },
 "nbformat": 4,
 "nbformat_minor": 2
}
