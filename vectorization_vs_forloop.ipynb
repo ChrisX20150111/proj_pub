{
 "cells": [
  {
   "cell_type": "code",
   "execution_count": 9,
   "metadata": {},
   "outputs": [
    {
     "name": "stdout",
     "output_type": "stream",
     "text": [
      "a1(shape:(4,)): [1 2 3 4]\n",
      "a2(shape:(6,)): [0.09046412 0.14052338 0.42373347 0.90715581 0.72687405 0.59831346]\n",
      "c: 249942.1014187281\n",
      "Vectorized ver: 7.000923156738281 ms\n",
      "c: 249942.10141872783\n",
      "For loop ver: 515.0513648986816 ms\n"
     ]
    }
   ],
   "source": [
    "import numpy as np\n",
    "import time as tm\n",
    "\n",
    "a1 = np.array([1, 2, 3, 4])\n",
    "print(\"a1(shape:\" + str(np.shape(a1)) + \"): \" + str(a1))\n",
    "\n",
    "a2 = np.random.rand(6)\n",
    "print(\"a2(shape:\" + str(np.shape(a2)) + \"): \" + str(a2))\n",
    "\n",
    "a = np.random.rand(1000000)\n",
    "b = np.random.rand(1000000)\n",
    "\n",
    "tic = tm.time()\n",
    "c = np.dot(a, b)\n",
    "toc = tm.time()\n",
    "print(\"c: \" + str(c))\n",
    "print(\"Vectorized ver: \" + str((toc - tic) * 1000) + \" ms\")\n",
    "\n",
    "tic = tm.time()\n",
    "c = 0\n",
    "for i in range(1000000):\n",
    "    c += a[i] * b[i]\n",
    "toc = tm.time()\n",
    "print(\"c: \" + str(c))\n",
    "print(\"For loop ver: \" + str((toc - tic) * 1000) + \" ms\")"
   ]
  },
  {
   "cell_type": "code",
   "execution_count": null,
   "metadata": {},
   "outputs": [],
   "source": []
  }
 ],
 "metadata": {
  "kernelspec": {
   "display_name": "Python 3",
   "language": "python",
   "name": "python3"
  },
  "language_info": {
   "codemirror_mode": {
    "name": "ipython",
    "version": 3
   },
   "file_extension": ".py",
   "mimetype": "text/x-python",
   "name": "python",
   "nbconvert_exporter": "python",
   "pygments_lexer": "ipython3",
   "version": "3.7.4"
  }
 },
 "nbformat": 4,
 "nbformat_minor": 2
}
