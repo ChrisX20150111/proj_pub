{
 "cells": [
  {
   "cell_type": "code",
   "execution_count": 4,
   "metadata": {},
   "outputs": [
    {
     "name": "stdout",
     "output_type": "stream",
     "text": [
      "<class 'numpy.ndarray'>\n",
      "(5,)\n",
      "[ 1.53850371 -1.59992441 -1.02190734 -1.35083085 -0.47070214]\n"
     ]
    }
   ],
   "source": [
    "import numpy as np\n",
    "\n",
    "A = np.random.randn(5)\n",
    "print(type(A))\n",
    "print(A.shape)\n",
    "print(A)"
   ]
  },
  {
   "cell_type": "code",
   "execution_count": 6,
   "metadata": {},
   "outputs": [
    {
     "name": "stdout",
     "output_type": "stream",
     "text": [
      "[ 1.53850371 -1.59992441 -1.02190734 -1.35083085 -0.47070214]\n",
      "8.017350885600539\n"
     ]
    }
   ],
   "source": [
    "print(A.T)\n",
    "print(np.dot(A, A.T))"
   ]
  },
  {
   "cell_type": "code",
   "execution_count": 9,
   "metadata": {},
   "outputs": [
    {
     "name": "stdout",
     "output_type": "stream",
     "text": [
      "<class 'numpy.ndarray'>\n",
      "(5, 1)\n",
      "[[-0.79195408]\n",
      " [-0.12904506]\n",
      " [-0.07413626]\n",
      " [-1.19284041]\n",
      " [ 0.69548787]]\n"
     ]
    }
   ],
   "source": [
    "B = np.random.randn(5, 1)\n",
    "print(type(B))\n",
    "print(B.shape)\n",
    "print(B)"
   ]
  },
  {
   "cell_type": "code",
   "execution_count": 10,
   "metadata": {},
   "outputs": [
    {
     "name": "stdout",
     "output_type": "stream",
     "text": [
      "[[-0.79195408 -0.12904506 -0.07413626 -1.19284041  0.69548787]]\n"
     ]
    }
   ],
   "source": [
    "print(B.T)"
   ]
  },
  {
   "cell_type": "code",
   "execution_count": 11,
   "metadata": {},
   "outputs": [
    {
     "name": "stdout",
     "output_type": "stream",
     "text": [
      "[[ 0.62719127  0.10219776  0.05871252  0.94467483 -0.55079446]\n",
      " [ 0.10219776  0.01665263  0.00956692  0.15393017 -0.08974928]\n",
      " [ 0.05871252  0.00956692  0.00549619  0.08843273 -0.05156087]\n",
      " [ 0.94467483  0.15393017  0.08843273  1.42286825 -0.82960604]\n",
      " [-0.55079446 -0.08974928 -0.05156087 -0.82960604  0.48370338]]\n"
     ]
    }
   ],
   "source": [
    "print(np.dot(B, B.T))"
   ]
  },
  {
   "cell_type": "code",
   "execution_count": null,
   "metadata": {},
   "outputs": [],
   "source": []
  }
 ],
 "metadata": {
  "kernelspec": {
   "display_name": "Python 3",
   "language": "python",
   "name": "python3"
  },
  "language_info": {
   "codemirror_mode": {
    "name": "ipython",
    "version": 3
   },
   "file_extension": ".py",
   "mimetype": "text/x-python",
   "name": "python",
   "nbconvert_exporter": "python",
   "pygments_lexer": "ipython3",
   "version": "3.7.4"
  }
 },
 "nbformat": 4,
 "nbformat_minor": 2
}
